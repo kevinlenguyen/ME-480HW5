{
 "cells": [
  {
   "cell_type": "code",
   "execution_count": 2,
   "metadata": {},
   "outputs": [],
   "source": [
    "from solid import *\n",
    "from solid.utils import *\n",
    "import viewscad\n",
    "\n",
    "r = viewscad.Renderer(openscad_exec='C:\\Program Files\\OpenSCAD\\openscad.exe')"
   ]
  },
  {
   "cell_type": "code",
   "execution_count": 7,
   "metadata": {},
   "outputs": [
    {
     "data": {
      "application/vnd.jupyter.widget-view+json": {
       "model_id": "f2467ff259ef45eca8bd080fc3360fac",
       "version_major": 2,
       "version_minor": 0
      },
      "text/plain": [
       "VBox(children=(HTML(value=''), Renderer(background='#cccc88', background_opacity=0.0, camera=PerspectiveCamera…"
      ]
     },
     "metadata": {},
     "output_type": "display_data"
    }
   ],
   "source": [
    "#1A\n",
    "\n",
    "pipe_inner = 5\n",
    "pipe_outer = 10\n",
    "seg_length = 10\n",
    "outer = cylinder(d=pipe_outer, h=seg_length)\n",
    "inner = cylinder(d=pipe_inner, h=seg_length)\n",
    "pipe_a = outer - hole()(inner)\n",
    "r.render(pipe_a)"
   ]
  },
  {
   "cell_type": "code",
   "execution_count": 20,
   "metadata": {},
   "outputs": [
    {
     "data": {
      "application/vnd.jupyter.widget-view+json": {
       "model_id": "b37ea5def7ec4d518fb3eec4a1f1e1d1",
       "version_major": 2,
       "version_minor": 0
      },
      "text/plain": [
       "VBox(children=(HTML(value=''), Renderer(background='#cccc88', background_opacity=0.0, camera=PerspectiveCamera…"
      ]
     },
     "metadata": {},
     "output_type": "display_data"
    }
   ],
   "source": [
    "#1B\n",
    "def PipeGenerator(inner, outer, length):\n",
    "    if outer <= inner:\n",
    "        print(\"Your inner diameter is too large. Please make sure it is less than the outer diameter.\")\n",
    "    else:\n",
    "        outer = cylinder(d=outer, h=length)\n",
    "        inner = cylinder(d=inner, h=length)\n",
    "        pipe = outer - hole()(inner)\n",
    "        r.render(pipe)\n",
    "    \n",
    "PipeGenerator(5, 10, 10)"
   ]
  },
  {
   "cell_type": "code",
   "execution_count": 6,
   "metadata": {},
   "outputs": [
    {
     "data": {
      "application/vnd.jupyter.widget-view+json": {
       "model_id": "6b71570aa35644da8c17130354b08389",
       "version_major": 2,
       "version_minor": 0
      },
      "text/plain": [
       "VBox(children=(HTML(value=''), Renderer(background='#cccc88', background_opacity=0.0, camera=PerspectiveCamera…"
      ]
     },
     "metadata": {},
     "output_type": "display_data"
    }
   ],
   "source": [
    "#1C\n",
    "def PipeIntersector(inner, thickness, length):\n",
    "    y=0\n",
    "    previousPosition = 0\n",
    "    currentPosition = 0\n",
    "    for i in range(len(inner)):\n",
    "        if i==0: \n",
    "            outer = cylinder(d=inner[i]+(2*thickness), h=length)\n",
    "            inner2 = cylinder(d=inner[i], h=length)\n",
    "            single_pipe1 = outer - hole()(inner2)\n",
    "            y += single_pipe1\n",
    "        else:\n",
    "            outer = cylinder(d=inner[i]+(2*thickness), h=length)\n",
    "            inner2 = cylinder(d=inner[i], h=length)\n",
    "            single_pipe2 = outer - hole()(inner2)\n",
    "            currentPosition = 0.5*(inner[i]+inner[i-1]) + (1.5*thickness)\n",
    "            translator = translate([currentPosition+previousPosition, 0, 0])(single_pipe2)\n",
    "            y += translator\n",
    "        previousPosition+=currentPosition\n",
    "    r.render(y)\n",
    "    \n",
    "PipeIntersector([2, 5, 10, 2],1,10)"
   ]
  },
  {
   "cell_type": "code",
   "execution_count": 7,
   "metadata": {},
   "outputs": [
    {
     "data": {
      "application/vnd.jupyter.widget-view+json": {
       "model_id": "a2e3ed23ab614e1496217783fdf219a4",
       "version_major": 2,
       "version_minor": 0
      },
      "text/plain": [
       "VBox(children=(HTML(value=''), Renderer(background='#cccc88', background_opacity=0.0, camera=PerspectiveCamera…"
      ]
     },
     "metadata": {},
     "output_type": "display_data"
    }
   ],
   "source": [
    "#2B\n",
    "def post(diameter, separation, height):\n",
    "    base = cylinder(d=7.38, h=7.76)\n",
    "    base2 = translate([(len(diameter) - 1) * separation,0,0])(base)\n",
    "    y = hull()(base, base2)\n",
    "    for i in range(len(diameter)):\n",
    "        z = cylinder(d=diameter[i], h=height)\n",
    "        y += translate([separation*i, 0, 0])(z)\n",
    "    r.render(y)\n",
    "post([4.8, 4.8, 4.8, 4.8, 4.8],7.97, 15)"
   ]
  },
  {
   "cell_type": "code",
   "execution_count": null,
   "metadata": {},
   "outputs": [],
   "source": []
  }
 ],
 "metadata": {
  "kernelspec": {
   "display_name": "Python 3",
   "language": "python",
   "name": "python3"
  },
  "language_info": {
   "codemirror_mode": {
    "name": "ipython",
    "version": 3
   },
   "file_extension": ".py",
   "mimetype": "text/x-python",
   "name": "python",
   "nbconvert_exporter": "python",
   "pygments_lexer": "ipython3",
   "version": "3.7.3"
  }
 },
 "nbformat": 4,
 "nbformat_minor": 2
}
